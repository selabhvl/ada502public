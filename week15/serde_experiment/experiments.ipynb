{
 "cells": [
  {
   "cell_type": "markdown",
   "id": "b18daea5-bab2-4cfa-b3d5-6773346f71f6",
   "metadata": {},
   "source": [
    "### How to install the environment for you Jupyter notebook\n",
    "\n",
    "#### Create a new virtual environment\n",
    "\n",
    "Linux/Mac\n",
    "```bash\n",
    "python3 -m venv .venv\n",
    "source .venv/bin/activate\n",
    "```\n",
    "Windows\n",
    "```cmd\n",
    "python -m virtualenv .venv\n",
    ".venv/bin/activate.bat\n",
    "```\n",
    "\n",
    "#### Install requirements\n",
    "\n",
    "```bash\n",
    "pip install -r requirements.txt\n",
    "```\n",
    "\n",
    "#### Install Jupyter kernel\n",
    "\n",
    "```bash\n",
    "python -m ipykernel install --user --name {{your chosen name}}\n",
    "```\n",
    "\n",
    "Make sure to select that new kernel for this notebook....\n",
    "\n",
    "#### Remove Jupyter kernel\n",
    "\n",
    "If you want to remove the kernel later at some point, use\n",
    "```bash\n",
    "jupyter kernelspec remove {{your chosen name}}\n",
    "```"
   ]
  },
  {
   "cell_type": "markdown",
   "id": "a45a4097-b4ec-46c2-8635-7afb4abea96b",
   "metadata": {},
   "source": [
    "### import the library "
   ]
  },
  {
   "cell_type": "code",
   "execution_count": 1,
   "id": "d7f548a6-eb3e-46bb-9841-a4f7c22a4432",
   "metadata": {},
   "outputs": [],
   "source": [
    "%run \"serde_lib.py\""
   ]
  },
  {
   "cell_type": "code",
   "execution_count": 2,
   "id": "06a14e97-c40f-4970-a708-98ff1e56101c",
   "metadata": {},
   "outputs": [],
   "source": [
    "# no of records to create\n",
    "N = 1_000"
   ]
  },
  {
   "cell_type": "code",
   "execution_count": 6,
   "id": "5eda2448-ba1d-495a-994b-9a95c15deca4",
   "metadata": {},
   "outputs": [],
   "source": [
    "data = []\n",
    "for _ in range(N):\n",
    "    data.append(make_random())"
   ]
  },
  {
   "cell_type": "code",
   "execution_count": 7,
   "id": "5df0fdf1-cd7e-4909-a444-f6187892cbe7",
   "metadata": {},
   "outputs": [
    {
     "data": {
      "text/plain": [
       "1000"
      ]
     },
     "execution_count": 7,
     "metadata": {},
     "output_type": "execute_result"
    }
   ],
   "source": [
    "len(data)"
   ]
  },
  {
   "cell_type": "code",
   "execution_count": 9,
   "id": "dbbd5993-9f8b-4614-9128-b39334dce727",
   "metadata": {},
   "outputs": [
    {
     "name": "stdout",
     "output_type": "stream",
     "text": [
      "b851bfdc-a8d1-4074-b136-3fcc2f8599b2: -2.9455824168959053 % at time: 2024-04-10 18:45:28.863624 and geo: 62.385713 N 9.93469 E\n"
     ]
    }
   ],
   "source": [
    "print(data[0])"
   ]
  },
  {
   "cell_type": "markdown",
   "id": "0bbffc68-3961-481e-99bc-2fbc9f144b32",
   "metadata": {},
   "source": [
    "## Naive JSON Ser-De"
   ]
  },
  {
   "cell_type": "code",
   "execution_count": 10,
   "id": "790fed09-34fd-49cd-8670-cee1e4f13314",
   "metadata": {},
   "outputs": [],
   "source": [
    "wire = Wire()"
   ]
  },
  {
   "cell_type": "code",
   "execution_count": 11,
   "id": "2a42170c-fb38-4b5c-84e8-6bc09883bb86",
   "metadata": {},
   "outputs": [],
   "source": [
    "naive_json_list_serialization(data, wire)"
   ]
  },
  {
   "cell_type": "code",
   "execution_count": 12,
   "id": "5e36adbb-ae42-4826-ae21-1cfd8a3cde60",
   "metadata": {},
   "outputs": [
    {
     "name": "stdout",
     "output_type": "stream",
     "text": [
      "Transmitting 214024 bytes with 5 Mbit/s: 342.4384ms network delay\n"
     ]
    }
   ],
   "source": [
    "wire.transmit()"
   ]
  },
  {
   "cell_type": "code",
   "execution_count": 14,
   "id": "9c68282d-e9b6-4e42-8fae-eb09672b14f1",
   "metadata": {},
   "outputs": [],
   "source": [
    "recvd_data = naive_json_list_deserializatio(wire)"
   ]
  },
  {
   "cell_type": "code",
   "execution_count": 15,
   "id": "8a35188a-9202-4278-9ccd-f1112190fa7d",
   "metadata": {},
   "outputs": [
    {
     "data": {
      "text/plain": [
       "1000"
      ]
     },
     "execution_count": 15,
     "metadata": {},
     "output_type": "execute_result"
    }
   ],
   "source": [
    "len(recvd_data)"
   ]
  },
  {
   "cell_type": "code",
   "execution_count": 16,
   "id": "09ac6e71-869e-43d6-91f7-75705f76c4a5",
   "metadata": {},
   "outputs": [
    {
     "name": "stdout",
     "output_type": "stream",
     "text": [
      "b851bfdc-a8d1-4074-b136-3fcc2f8599b2: -2.9455824168959053 % at time: 2024-04-10 18:45:28.863624 and geo: 62.385713 N 9.93469 E\n"
     ]
    }
   ],
   "source": [
    "print(recvd_data[0])"
   ]
  },
  {
   "cell_type": "code",
   "execution_count": 20,
   "id": "5786bbba-47e3-4ab4-9a03-c64eb3e40495",
   "metadata": {},
   "outputs": [
    {
     "data": {
      "text/plain": [
       "False"
      ]
     },
     "execution_count": 20,
     "metadata": {},
     "output_type": "execute_result"
    }
   ],
   "source": [
    "data[0] == recvd_data[0]"
   ]
  },
  {
   "cell_type": "code",
   "execution_count": 19,
   "id": "a6ece528-a5c7-4abb-9daf-80e145d4eac8",
   "metadata": {},
   "outputs": [
    {
     "data": {
      "text/plain": [
       "True"
      ]
     },
     "execution_count": 19,
     "metadata": {},
     "output_type": "execute_result"
    }
   ],
   "source": [
    "str(data[0]) == str(recvd_data[0])"
   ]
  },
  {
   "cell_type": "markdown",
   "id": "8556ac74-4fd4-442b-82fa-6c6a4acf182f",
   "metadata": {},
   "source": [
    "## GRPC/ProtoBuf\n",
    "\n",
    "**Attention:** you first have to call \n",
    "```\n",
    "python -m grpc_tools.protoc -I=. --python_out=. measurements.proto\n",
    "```\n",
    "to compile the Protocol Buffer file"
   ]
  }
 ],
 "metadata": {
  "kernelspec": {
   "display_name": "serde_experiment",
   "language": "python",
   "name": "serde_experiment"
  },
  "language_info": {
   "codemirror_mode": {
    "name": "ipython",
    "version": 3
   },
   "file_extension": ".py",
   "mimetype": "text/x-python",
   "name": "python",
   "nbconvert_exporter": "python",
   "pygments_lexer": "ipython3",
   "version": "3.12.2"
  }
 },
 "nbformat": 4,
 "nbformat_minor": 5
}
