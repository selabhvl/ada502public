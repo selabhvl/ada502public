{
 "cells": [
  {
   "cell_type": "markdown",
   "id": "b18daea5-bab2-4cfa-b3d5-6773346f71f6",
   "metadata": {},
   "source": [
    "### How to install the environment for you Jupyter notebook\n",
    "\n",
    "#### Create a new virtual environment\n",
    "\n",
    "Linux/Mac\n",
    "```bash\n",
    "python3 -m venv .venv\n",
    "source .venv/bin/activate\n",
    "```\n",
    "Windows\n",
    "```cmd\n",
    "python -m virtualenv .venv\n",
    ".venv/bin/activate.bat\n",
    "```\n",
    "\n",
    "#### Install requirements\n",
    "\n",
    "```bash\n",
    "pip install -r requirements.txt\n",
    "```\n",
    "\n",
    "#### Install Jupyter kernel\n",
    "\n",
    "```bash\n",
    "python -m ipykernel install --user --name {{your chosen name}}\n",
    "```\n",
    "\n",
    "Make sure to select that new kernel for this notebook....\n",
    "\n",
    "#### Remove Jupyter kernel\n",
    "\n",
    "If you want to remove the kernel later at some point, use\n",
    "```bash\n",
    "jupyter kernelspec remove {{your chosen name}}\n",
    "```"
   ]
  },
  {
   "cell_type": "markdown",
   "id": "a45a4097-b4ec-46c2-8635-7afb4abea96b",
   "metadata": {},
   "source": [
    "### import the library "
   ]
  },
  {
   "cell_type": "code",
   "execution_count": 28,
   "id": "d7f548a6-eb3e-46bb-9841-a4f7c22a4432",
   "metadata": {},
   "outputs": [],
   "source": [
    "%run \"serde_lib.py\""
   ]
  },
  {
   "cell_type": "code",
   "execution_count": 29,
   "id": "06a14e97-c40f-4970-a708-98ff1e56101c",
   "metadata": {},
   "outputs": [],
   "source": [
    "# no of records to create\n",
    "N = 20_000"
   ]
  },
  {
   "cell_type": "code",
   "execution_count": 30,
   "id": "5eda2448-ba1d-495a-994b-9a95c15deca4",
   "metadata": {},
   "outputs": [],
   "source": [
    "data = []\n",
    "for _ in range(N):\n",
    "    data.append(make_random())"
   ]
  },
  {
   "cell_type": "code",
   "execution_count": 31,
   "id": "5df0fdf1-cd7e-4909-a444-f6187892cbe7",
   "metadata": {},
   "outputs": [
    {
     "data": {
      "text/plain": [
       "20000"
      ]
     },
     "execution_count": 31,
     "metadata": {},
     "output_type": "execute_result"
    }
   ],
   "source": [
    "len(data)"
   ]
  },
  {
   "cell_type": "code",
   "execution_count": 24,
   "id": "dbbd5993-9f8b-4614-9128-b39334dce727",
   "metadata": {},
   "outputs": [
    {
     "name": "stdout",
     "output_type": "stream",
     "text": [
      "f64c828d-26d4-4840-8b1c-eb86582e7e1c: 23.85952102637205 % at time: 2024-04-10 10:32:38.863624 and geo: 62.822135 N 5.784855 E\n"
     ]
    }
   ],
   "source": [
    "print(data[0])"
   ]
  },
  {
   "cell_type": "markdown",
   "id": "0bbffc68-3961-481e-99bc-2fbc9f144b32",
   "metadata": {},
   "source": [
    "## Naive JSON Ser-De"
   ]
  },
  {
   "cell_type": "code",
   "execution_count": 32,
   "id": "790fed09-34fd-49cd-8670-cee1e4f13314",
   "metadata": {},
   "outputs": [],
   "source": [
    "wire = Wire()"
   ]
  },
  {
   "cell_type": "code",
   "execution_count": 33,
   "id": "2a42170c-fb38-4b5c-84e8-6bc09883bb86",
   "metadata": {},
   "outputs": [],
   "source": [
    "naive_json_list_serialization(data, wire)"
   ]
  },
  {
   "cell_type": "code",
   "execution_count": 34,
   "id": "5e36adbb-ae42-4826-ae21-1cfd8a3cde60",
   "metadata": {},
   "outputs": [
    {
     "name": "stdout",
     "output_type": "stream",
     "text": [
      "Transmitting 4280787 bytes with 5 Mbit/s...\n",
      "...done  (6849.2591999999995ms network delay)\n"
     ]
    }
   ],
   "source": [
    "wire.transmit()"
   ]
  },
  {
   "cell_type": "code",
   "execution_count": 9,
   "id": "9c68282d-e9b6-4e42-8fae-eb09672b14f1",
   "metadata": {},
   "outputs": [],
   "source": [
    "recvd_data = naive_json_list_deserializatio(wire)"
   ]
  },
  {
   "cell_type": "code",
   "execution_count": 10,
   "id": "8a35188a-9202-4278-9ccd-f1112190fa7d",
   "metadata": {},
   "outputs": [
    {
     "data": {
      "text/plain": [
       "10000"
      ]
     },
     "execution_count": 10,
     "metadata": {},
     "output_type": "execute_result"
    }
   ],
   "source": [
    "len(recvd_data)"
   ]
  },
  {
   "cell_type": "code",
   "execution_count": 11,
   "id": "09ac6e71-869e-43d6-91f7-75705f76c4a5",
   "metadata": {},
   "outputs": [
    {
     "name": "stdout",
     "output_type": "stream",
     "text": [
      "90e67fa3-05a6-4b56-928e-a754dfe30289: 33.602122584452985 degC at time: 2024-04-10 03:29:04.863624 and geo: 62.941213 N 6.345554 E\n"
     ]
    }
   ],
   "source": [
    "print(recvd_data[0])"
   ]
  },
  {
   "cell_type": "code",
   "execution_count": 12,
   "id": "5786bbba-47e3-4ab4-9a03-c64eb3e40495",
   "metadata": {},
   "outputs": [
    {
     "data": {
      "text/plain": [
       "False"
      ]
     },
     "execution_count": 12,
     "metadata": {},
     "output_type": "execute_result"
    }
   ],
   "source": [
    "data[0] == recvd_data[0]"
   ]
  },
  {
   "cell_type": "code",
   "execution_count": 13,
   "id": "a6ece528-a5c7-4abb-9daf-80e145d4eac8",
   "metadata": {},
   "outputs": [
    {
     "data": {
      "text/plain": [
       "True"
      ]
     },
     "execution_count": 13,
     "metadata": {},
     "output_type": "execute_result"
    }
   ],
   "source": [
    "str(data[0]) == str(recvd_data[0])"
   ]
  },
  {
   "cell_type": "markdown",
   "id": "8556ac74-4fd4-442b-82fa-6c6a4acf182f",
   "metadata": {},
   "source": [
    "## GRPC/ProtoBuf\n",
    "\n",
    "**Attention:** you first have to call \n",
    "```\n",
    "python -m grpc_tools.protoc -I=. --python_out=. measurements.proto\n",
    "```\n",
    "to compile the Protocol Buffer file"
   ]
  },
  {
   "cell_type": "code",
   "execution_count": 35,
   "id": "6b1a66e2-e46d-45a7-986f-204213fa1f2b",
   "metadata": {},
   "outputs": [],
   "source": [
    "wire = Wire()"
   ]
  },
  {
   "cell_type": "code",
   "execution_count": 36,
   "id": "d5c7a838-aab1-493f-b84e-982da74429f2",
   "metadata": {},
   "outputs": [],
   "source": [
    "serialize_grpc(data, wire)"
   ]
  },
  {
   "cell_type": "code",
   "execution_count": 37,
   "id": "fc686fc2-de23-40cc-9b76-a0b04625d200",
   "metadata": {},
   "outputs": [
    {
     "name": "stdout",
     "output_type": "stream",
     "text": [
      "Transmitting 1586532 bytes with 5 Mbit/s...\n",
      "...done  (2538.4512ms network delay)\n"
     ]
    }
   ],
   "source": [
    "wire.transmit()"
   ]
  },
  {
   "cell_type": "markdown",
   "id": "a50a460b-f7a5-440f-a207-efd1f3261cdc",
   "metadata": {},
   "source": [
    "## Apache Parquet\n",
    "\n",
    "using Polars and Apache Arrow under the hood"
   ]
  },
  {
   "cell_type": "code",
   "execution_count": 38,
   "id": "80de7d0a-f2dc-4189-807d-e395f0508e10",
   "metadata": {},
   "outputs": [],
   "source": [
    "wire = Wire()"
   ]
  },
  {
   "cell_type": "code",
   "execution_count": 39,
   "id": "1708ff85-cc0d-435c-bd78-eb3df0e806e0",
   "metadata": {},
   "outputs": [],
   "source": [
    "serialize_parquet(data, wire)"
   ]
  },
  {
   "cell_type": "code",
   "execution_count": 40,
   "id": "f326365e-0bc4-474d-8d8e-a826888d6588",
   "metadata": {},
   "outputs": [
    {
     "name": "stdout",
     "output_type": "stream",
     "text": [
      "Transmitting 974420 bytes with 5 Mbit/s...\n",
      "...done  (1559.0720000000001ms network delay)\n"
     ]
    }
   ],
   "source": [
    "wire.transmit()"
   ]
  },
  {
   "cell_type": "code",
   "execution_count": null,
   "id": "15eddee6-1fc1-4964-8e13-655bcc7a2bca",
   "metadata": {},
   "outputs": [],
   "source": []
  }
 ],
 "metadata": {
  "kernelspec": {
   "display_name": "serde_experiment",
   "language": "python",
   "name": "serde_experiment"
  },
  "language_info": {
   "codemirror_mode": {
    "name": "ipython",
    "version": 3
   },
   "file_extension": ".py",
   "mimetype": "text/x-python",
   "name": "python",
   "nbconvert_exporter": "python",
   "pygments_lexer": "ipython3",
   "version": "3.12.9"
  }
 },
 "nbformat": 4,
 "nbformat_minor": 5
}
